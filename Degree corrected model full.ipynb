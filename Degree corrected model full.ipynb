{
 "cells": [
  {
   "cell_type": "code",
   "execution_count": 1,
   "metadata": {},
   "outputs": [],
   "source": [
    "import igraph as ig\n",
    "import numpy as np\n",
    "from src import renormalizable_model, utils\n",
    "from tqdm import tqdm\n",
    "import scipy\n",
    "from matplotlib import pyplot as plt"
   ]
  },
  {
   "cell_type": "code",
   "execution_count": 2,
   "metadata": {},
   "outputs": [],
   "source": [
    "from IPython.display import clear_output"
   ]
  },
  {
   "cell_type": "code",
   "execution_count": 3,
   "metadata": {},
   "outputs": [],
   "source": [
    "def create_degree_corrected_RM_graph(strengths, z, weighted=False, check_consistency=False):\n",
    "    # if self_loops:\n",
    "    #     new_strengths = strengths\n",
    "    # else:\n",
    "    #     new_strengths = renormalizable_model.convert_strengths_without_self_loops(strengths)\n",
    "    new_strengths = strengths\n",
    "    out_strengths = new_strengths[:,0]\n",
    "    in_strengths = new_strengths[:,1]\n",
    "    W = np.sum(out_strengths)\n",
    "    num_nodes = len(out_strengths)\n",
    "    prob_matrix = np.ones([num_nodes, num_nodes]) - np.exp(-z*out_strengths.reshape(num_nodes,1)@in_strengths.reshape(1,num_nodes))\n",
    "    #random_numbers = np.random.random_sample([num_nodes,num_nodes])\n",
    "    adjacency_matrix = np.zeros([num_nodes,num_nodes])\n",
    "    for i in range(num_nodes):\n",
    "        num_edges_i = 0\n",
    "        while num_edges_i == 0:\n",
    "            random_numbers = np.random.random_sample(num_nodes)\n",
    "            edges_to_add = random_numbers < prob_matrix[i,:]\n",
    "            num_edges_i = np.sum(edges_to_add)\n",
    "        adjacency_matrix[i,:] = edges_to_add\n",
    "    if weighted:\n",
    "        weight_matrix = out_strengths.reshape(num_nodes,1)@in_strengths.reshape(1,num_nodes)/(W*prob_matrix)\n",
    "        p_k_i_nonzero = 1-np.exp(-z*out_strengths*W)\n",
    "        p_k_i_nonzero_matrix = np.diag(p_k_i_nonzero)\n",
    "        weighted_adj_matrix = p_k_i_nonzero_matrix@(weight_matrix*adjacency_matrix)\n",
    "        return utils.graph_from_adjacency(weighted_adj_matrix, weighted=True)\n",
    "    return utils.graph_from_adjacency(adjacency_matrix, weighted=False)"
   ]
  },
  {
   "cell_type": "code",
   "execution_count": 4,
   "metadata": {},
   "outputs": [],
   "source": [
    "def exp_num_of_links(strengths, z):\n",
    "    new_strengths = strengths\n",
    "    out_strengths = new_strengths[:,0]\n",
    "    in_strengths = new_strengths[:,1]\n",
    "    W = np.sum(out_strengths)\n",
    "    num_nodes = len(out_strengths)\n",
    "    prob_matrix = np.ones([num_nodes, num_nodes]) - np.exp(-z*out_strengths.reshape(num_nodes,1)@in_strengths.reshape(1,num_nodes))\n",
    "    p_k_i_nonzero = 1/(1-np.exp(-z*out_strengths*W))\n",
    "    p_k_i_nonzero_matrix = np.diag(p_k_i_nonzero)\n",
    "    prob_matrix_k_nonzero = p_k_i_nonzero_matrix@prob_matrix\n",
    "    return np.sum(prob_matrix_k_nonzero)"
   ]
  },
  {
   "cell_type": "code",
   "execution_count": 5,
   "metadata": {},
   "outputs": [],
   "source": [
    "weighted_adj_matrix = np.loadtxt(open(\"data/fg_empiricalNTW(node_num=1000).csv\", \"rb\"), delimiter=\",\").reshape((1000,1000))"
   ]
  },
  {
   "cell_type": "code",
   "execution_count": 6,
   "metadata": {},
   "outputs": [],
   "source": [
    "out_strengths = np.sum(weighted_adj_matrix, axis=1)\n",
    "in_strengths = np.sum(weighted_adj_matrix, axis=0)\n",
    "strengths = np.stack([out_strengths, in_strengths], axis=1)\n",
    "\n",
    "num_of_links = np.sum(weighted_adj_matrix > 0)"
   ]
  },
  {
   "cell_type": "code",
   "execution_count": 7,
   "metadata": {},
   "outputs": [
    {
     "name": "stdout",
     "output_type": "stream",
     "text": [
      "Number of links in synthetic graph:  7076\n"
     ]
    }
   ],
   "source": [
    "print(\"Number of links in synthetic graph: \", num_of_links)"
   ]
  },
  {
   "cell_type": "code",
   "execution_count": 8,
   "metadata": {},
   "outputs": [
    {
     "name": "stdout",
     "output_type": "stream",
     "text": [
      "      converged: True\n",
      "           flag: converged\n",
      " function_calls: 41\n",
      "     iterations: 39\n",
      "           root: 0.017420408911440973\n"
     ]
    }
   ],
   "source": [
    "exp_z_details = scipy.optimize.root_scalar(lambda z: exp_num_of_links(strengths, z) - num_of_links, method=\"bisect\", bracket=[0.001,1])\n",
    "print(exp_z_details)"
   ]
  },
  {
   "cell_type": "code",
   "execution_count": 9,
   "metadata": {},
   "outputs": [],
   "source": [
    "exp_z = exp_z_details.root"
   ]
  },
  {
   "cell_type": "code",
   "execution_count": 10,
   "metadata": {},
   "outputs": [
    {
     "name": "stderr",
     "output_type": "stream",
     "text": [
      "  0%|          | 0/1000 [00:00<?, ?it/s]"
     ]
    },
    {
     "name": "stderr",
     "output_type": "stream",
     "text": [
      "100%|██████████| 1000/1000 [08:41<00:00,  1.92it/s] \n"
     ]
    }
   ],
   "source": [
    "ensemble_degree_corrected = [create_degree_corrected_RM_graph(np.array([out_strengths, in_strengths]).T, exp_z, weighted=True) for _ in tqdm(range(1000))]"
   ]
  },
  {
   "cell_type": "code",
   "execution_count": 11,
   "metadata": {},
   "outputs": [
    {
     "name": "stdout",
     "output_type": "stream",
     "text": [
      "Average number of edges:  7073.677\n"
     ]
    }
   ],
   "source": [
    "avg_edges = np.mean([g.ecount() for g in ensemble_degree_corrected])\n",
    "print(\"Average number of edges: \", avg_edges)"
   ]
  },
  {
   "cell_type": "code",
   "execution_count": 12,
   "metadata": {},
   "outputs": [
    {
     "name": "stdout",
     "output_type": "stream",
     "text": [
      "Average out-degree:  0.0\n"
     ]
    }
   ],
   "source": [
    "avg_degree_out = np.mean([g.degree(mode=\"out\").count(0) for g in ensemble_degree_corrected])\n",
    "print(\"Average out-degree: \", avg_degree_out)"
   ]
  },
  {
   "cell_type": "code",
   "execution_count": 13,
   "metadata": {},
   "outputs": [
    {
     "name": "stdout",
     "output_type": "stream",
     "text": [
      "Average in-degree:  394.567\n"
     ]
    }
   ],
   "source": [
    "avg_degree_out = np.mean([g.degree(mode=\"in\").count(0) for g in ensemble_degree_corrected])\n",
    "print(\"Average in-degree: \", avg_degree_out)"
   ]
  },
  {
   "cell_type": "markdown",
   "metadata": {},
   "source": [
    "### Strengths correspondence"
   ]
  },
  {
   "cell_type": "code",
   "execution_count": 14,
   "metadata": {},
   "outputs": [],
   "source": [
    "def compute_strengths(graph, mode):\n",
    "    weighted_adj_matrix = utils.weighted_adj_matrix(graph)\n",
    "    if mode == \"out\":\n",
    "        return np.sum(weighted_adj_matrix, axis=1)\n",
    "    elif mode == \"in\":\n",
    "        return np.sum(weighted_adj_matrix, axis=0)"
   ]
  },
  {
   "cell_type": "code",
   "execution_count": 15,
   "metadata": {},
   "outputs": [
    {
     "name": "stderr",
     "output_type": "stream",
     "text": [
      "100%|██████████| 1000/1000 [03:19<00:00,  5.01it/s]\n"
     ]
    }
   ],
   "source": [
    "exp_strengths_out = np.mean([compute_strengths(graph, mode=\"out\") for graph in tqdm(ensemble_degree_corrected)], axis=0)"
   ]
  },
  {
   "cell_type": "code",
   "execution_count": 16,
   "metadata": {},
   "outputs": [
    {
     "data": {
      "text/plain": [
       "Text(0, 0.5, '$\\\\log(s_{out})$')"
      ]
     },
     "execution_count": 16,
     "metadata": {},
     "output_type": "execute_result"
    },
    {
     "data": {
      "image/png": "[encoded data removed]",
      "text/plain": [
       "<Figure size 640x480 with 1 Axes>"
      ]
     },
     "metadata": {},
     "output_type": "display_data"
    }
   ],
   "source": [
    "plt.title(\"Synthetic vs. ensemble strengths\")\n",
    "plt.scatter(np.log(out_strengths), np.log(out_strengths), s=10, c=\"blue\", alpha=.5)\n",
    "plt.scatter(np.log(out_strengths), np.log(exp_strengths_out), s=10, c=\"red\", alpha=.5)\n",
    "plt.xlabel(r\"$\\log(s_{out,empirical})$\")\n",
    "plt.ylabel(r\"$\\log(s_{out})$\")"
   ]
  },
  {
   "cell_type": "markdown",
   "metadata": {},
   "source": [
    "Strengths are in a great correspondence"
   ]
  },
  {
   "cell_type": "markdown",
   "metadata": {},
   "source": [
    "### Comparison with original model"
   ]
  },
  {
   "cell_type": "code",
   "execution_count": 17,
   "metadata": {},
   "outputs": [],
   "source": [
    "def exp_num_of_links(z):\n",
    "    return np.sum([1 - np.exp(-z*x_i*y_j) for x_i, y_j in np.array(np.meshgrid(out_strengths,in_strengths)).T.reshape(-1, 2)]) - num_of_links"
   ]
  },
  {
   "cell_type": "code",
   "execution_count": 18,
   "metadata": {},
   "outputs": [
    {
     "name": "stdout",
     "output_type": "stream",
     "text": [
      "      converged: True\n",
      "           flag: converged\n",
      " function_calls: 41\n",
      "     iterations: 39\n",
      "           root: 0.019080723824868986\n"
     ]
    }
   ],
   "source": [
    "exp_z_details = scipy.optimize.root_scalar(exp_num_of_links, method=\"bisect\", bracket=[0.001,1])\n",
    "print(exp_z_details)"
   ]
  },
  {
   "cell_type": "code",
   "execution_count": 19,
   "metadata": {},
   "outputs": [],
   "source": [
    "exp_z = exp_z_details.root"
   ]
  },
  {
   "cell_type": "code",
   "execution_count": 20,
   "metadata": {},
   "outputs": [
    {
     "name": "stderr",
     "output_type": "stream",
     "text": [
      "100%|██████████| 1000/1000 [01:25<00:00, 11.72it/s]\n"
     ]
    }
   ],
   "source": [
    "ensemble_vanilla = [renormalizable_model.create_RM_graph(strengths, exp_z) for _ in tqdm(range(1000))]"
   ]
  },
  {
   "cell_type": "code",
   "execution_count": 21,
   "metadata": {},
   "outputs": [
    {
     "name": "stdout",
     "output_type": "stream",
     "text": [
      "Average number of edges, original model:  7073.07\n"
     ]
    }
   ],
   "source": [
    "avg_edges = np.mean([g.ecount() for g in ensemble_vanilla])\n",
    "print(\"Average number of edges, original model: \", avg_edges)"
   ]
  },
  {
   "cell_type": "code",
   "execution_count": 22,
   "metadata": {},
   "outputs": [
    {
     "name": "stdout",
     "output_type": "stream",
     "text": [
      "Average out-degree, original model:  387.265\n"
     ]
    }
   ],
   "source": [
    "avg_degree_out = np.mean([g.degree(mode=\"out\").count(0) for g in ensemble_vanilla])\n",
    "print(\"Average out-degree, original model: \", avg_degree_out)"
   ]
  },
  {
   "cell_type": "code",
   "execution_count": 23,
   "metadata": {},
   "outputs": [
    {
     "name": "stdout",
     "output_type": "stream",
     "text": [
      "Average in-degree, original model:  387.48\n"
     ]
    }
   ],
   "source": [
    "avg_degree_out = np.mean([g.degree(mode=\"in\").count(0) for g in ensemble_vanilla])\n",
    "print(\"Average in-degree, original model: \", avg_degree_out)"
   ]
  }
 ],
 "metadata": {
  "kernelspec": {
   "display_name": "network_renormalisation",
   "language": "python",
   "name": "python3"
  },
  "language_info": {
   "codemirror_mode": {
    "name": "ipython",
    "version": 3
   },
   "file_extension": ".py",
   "mimetype": "text/x-python",
   "name": "python",
   "nbconvert_exporter": "python",
   "pygments_lexer": "ipython3",
   "version": "3.12.0"
  }
 },
 "nbformat": 4,
 "nbformat_minor": 2
}
